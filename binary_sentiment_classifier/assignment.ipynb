{
 "cells": [
  {
   "cell_type": "markdown",
   "metadata": {},
   "source": [
    "# Assignment 2\n",
    "\n",
    "Note: this notebook takes approximately 5 minutes to run."
   ]
  },
  {
   "cell_type": "markdown",
   "metadata": {},
   "source": [
    "## Task 1"
   ]
  },
  {
   "cell_type": "markdown",
   "metadata": {},
   "source": [
    "### Review Ingestion"
   ]
  },
  {
   "cell_type": "markdown",
   "metadata": {},
   "source": [
    "pandas is used to read the car reviews CSV and dataframes are used extensively throughout for data manipulation."
   ]
  },
  {
   "cell_type": "code",
   "execution_count": 1,
   "metadata": {},
   "outputs": [
    {
     "name": "stderr",
     "output_type": "stream",
     "text": [
      "[nltk_data] Downloading package punkt to\n",
      "[nltk_data]     /Users/jwestgomila/nltk_data...\n",
      "[nltk_data]   Package punkt is already up-to-date!\n",
      "[nltk_data] Downloading package punkt_tab to\n",
      "[nltk_data]     /Users/jwestgomila/nltk_data...\n",
      "[nltk_data]   Package punkt_tab is already up-to-date!\n",
      "[nltk_data] Downloading package stopwords to\n",
      "[nltk_data]     /Users/jwestgomila/nltk_data...\n",
      "[nltk_data]   Package stopwords is already up-to-date!\n",
      "[nltk_data] Downloading package wordnet to\n",
      "[nltk_data]     /Users/jwestgomila/nltk_data...\n",
      "[nltk_data]   Package wordnet is already up-to-date!\n"
     ]
    }
   ],
   "source": [
    "\"\"\"\n",
    "Define all notebook inputs and base ingestion behaviour.\n",
    "\"\"\"\n",
    "\n",
    "# NLTK imports and downloads\n",
    "import nltk\n",
    "import ssl\n",
    "\n",
    "try:\n",
    "    _create_unverified_https_context = ssl._create_unverified_context\n",
    "except AttributeError:\n",
    "    pass\n",
    "else:\n",
    "    ssl._create_default_https_context = _create_unverified_https_context\n",
    "\n",
    "nltk.download('punkt')\n",
    "nltk.download('punkt_tab')\n",
    "nltk.download('stopwords')\n",
    "nltk.download('wordnet')\n",
    "\n",
    "# Standard library imports\n",
    "import warnings\n",
    "import unicodedata\n",
    "from abc import ABC\n",
    "from collections import Counter\n",
    "\n",
    "# Third-party imports\n",
    "import numpy as np\n",
    "import pandas as pd\n",
    "import seaborn as sns\n",
    "import matplotlib.pyplot as plt\n",
    "\n",
    "# Scikit-learn imports\n",
    "from sklearn.naive_bayes import MultinomialNB\n",
    "from sklearn.model_selection import train_test_split, cross_val_score, StratifiedKFold\n",
    "from sklearn.metrics import confusion_matrix\n",
    "from sklearn.feature_extraction.text import CountVectorizer, TfidfVectorizer\n",
    "\n",
    "# NLTK imports\n",
    "import nltk\n",
    "from nltk.tokenize import word_tokenize\n",
    "from nltk.corpus import stopwords\n",
    "from nltk.stem import SnowballStemmer, WordNetLemmatizer as wnl\n",
    "\n",
    "# Ignore unneeded token_pattern warnings to improve notebook readability\n",
    "warnings.filterwarnings(\n",
    "    \"ignore\", \n",
    "    message=\"The parameter 'token_pattern' will not be used since 'tokenizer' is not None\"\n",
    ")\n",
    "\n",
    "# Render pandas dataframes without max row/column constraints\n",
    "pd.set_option(\"display.max_rows\", None)\n",
    "pd.set_option(\"display.max_columns\", None)\n",
    "\n",
    "# Render numpy arrays without max row/column constraints\n",
    "np.set_printoptions(threshold=np.inf)\n",
    "\n",
    "class Ingestor(ABC):\n",
    "    \"\"\"\n",
    "    Base ingestor class defining core data ingestion functionality.\n",
    "    Uses stemming, stop word and special character filtering, accent stripping and tokenisation\n",
    "    \"\"\"\n",
    "    def __init__(self):\n",
    "        self.stemmer = SnowballStemmer(\"english\")\n",
    "        self.stop_words = set(stopwords.words('english'))\n",
    "    \n",
    "    def ingest_reviews(self, filename = \"car-reviews.csv\"):\n",
    "        return pd.read_csv(filename)\n",
    "\n",
    "    def tokenize_and_stem(self, text):\n",
    "        # Remove accents\n",
    "        stripped_text = self.strip_accents(text)\n",
    "        \n",
    "        # Tokenize text\n",
    "        tokens = word_tokenize(stripped_text)\n",
    "        \n",
    "        # Include only alphanumeric tokens and convert tokens to lowercase\n",
    "        tokens = [token.lower() for token in tokens if token.isalnum()]\n",
    "        \n",
    "        # Remove stop words found in NLTK's stop word corpus\n",
    "        filtered_tokens = [word for word in tokens if word not in self.stop_words]\n",
    "        \n",
    "        # Stem tokens using NLTK's SnowballStemmer class\n",
    "        return [self.stemmer.stem(token) for token in filtered_tokens]\n",
    "    \n",
    "    # Using scikit-learn's train_test_split to arrange the data into an 80/20 split.\n",
    "    # Using random_state=1 to ensure consistent splitting selection\n",
    "    # Only first tuple return element is used for training (80%), second element for testing (20%)\n",
    "    def split_reviews(self, df, test_size = 0.2):\n",
    "        return train_test_split(df, test_size = test_size, random_state = 1, stratify=df['Sentiment'])\n",
    "    \n",
    "    def strip_accents(self, text):\n",
    "        # Normalize the text by splitting combined characters into their base characters and separate \n",
    "        # accent components\n",
    "        text = unicodedata.normalize('NFD', text)\n",
    "        \n",
    "        # Reconstruct the string by filtering out all non-spacing marks. These non-spacing marks are the \n",
    "        # accent components, so removing them strips accents from the original text.\n",
    "        return ''.join(char for char in text if unicodedata.category(char) != 'Mn')\n",
    "    \n",
    "ingestor = Ingestor()\n",
    "df = ingestor.ingest_reviews()\n",
    "\n",
    "# Internally train_test_split rounds up, so need to set a fixed integer size to get 276 test examples as \n",
    "# specified in the question\n",
    "test_size_int = int(len(df) * 0.2)\n",
    "train_df, test_df = ingestor.split_reviews(df, test_size = test_size_int)"
   ]
  },
  {
   "cell_type": "markdown",
   "metadata": {},
   "source": [
    "#### Data Splitting Demonstration"
   ]
  },
  {
   "cell_type": "markdown",
   "metadata": {},
   "source": [
    "scikit-learn's train_test_split is used internally to split the data into training and test sets. Of note, random_state is set to 1 to ensure reproducible split distributions across multiple runs.\n",
    "\n",
    "stratify is set to the \"Sentiment\" column values to ensure a balanced distribution of positive and negative reviews across both the training and test sets. Stratification of the data set ensures the training and test sets reflect the true distribution of classes, and a balanced representation allows the model to learn from both classes, reducing the risk of bias towards one or the other."
   ]
  },
  {
   "cell_type": "code",
   "execution_count": 2,
   "metadata": {},
   "outputs": [
    {
     "name": "stdout",
     "output_type": "stream",
     "text": [
      "Counter({'Neg': 691, 'Pos': 691})\n",
      "Counter({'Neg': 553, 'Pos': 553})\n",
      "Counter({'Pos': 138, 'Neg': 138})\n",
      "\n",
      "Training set % of original data set 0.8002894356005789, with 1106 examples\n",
      "Test set % of original data set: 0.19971056439942114, with 276 examples\n"
     ]
    }
   ],
   "source": [
    "\"\"\"\n",
    "Demonstrate train/test split behaviour.\n",
    "\"\"\"\n",
    "\n",
    "print(Counter(df['Sentiment']))\n",
    "print(Counter(train_df['Sentiment']))\n",
    "print(Counter(test_df['Sentiment']))\n",
    "print()\n",
    "\n",
    "print(f\"Training set % of original data set {len(train_df) / len(df)}, with {len(train_df)} examples\")\n",
    "print(f\"Test set % of original data set: {len(test_df) / len(df)}, with {len(test_df)} examples\")"
   ]
  },
  {
   "cell_type": "markdown",
   "metadata": {},
   "source": [
    "#### Stop Words, Case Insensitivity and Stemming Demonstration\n",
    "\n",
    "The solution implements tokenization, stemming, stop word filtering, case insensitivity and punctuation removal by providing a custom tokenize_and_stem method to the scikit-learn vectoriser. More detail can be found in the code comments, and I will demonstrate the application of these text pre-processing techniques in the below code block.\n",
    "\n",
    "Multiple word variations reducing to a single stem will be shown for:\n",
    "- Family and families with stem famili\n",
    "- Purchase and purchased with stem purchas\n",
    "- Good and goodness with stem good"
   ]
  },
  {
   "cell_type": "code",
   "execution_count": 3,
   "metadata": {},
   "outputs": [
    {
     "name": "stdout",
     "output_type": "stream",
     "text": [
      "Example review length 33\n",
      "Example features contain stop words? Yes\n",
      "My Family familiés purchased it car after our 1988 Ford Taurus Station Wagon went out!!!  We thought  well  since the purchase that was and good goodness car  why dont we try this one\n",
      "\n",
      "Example review tokenised, stemmed and stop word filtered length 16\n",
      "Example processed features contain stop words? No\n",
      "{'car', '1988', 'went', 'tri', 'ford', 'purchas', 'good', 'well', 'one', 'dont', 'thought', 'sinc', 'taurus', 'wagon', 'famili', 'station'}\n",
      "\n"
     ]
    }
   ],
   "source": [
    "\"\"\"\n",
    "Explicitly demonstrate stop word filtering.\n",
    "\"\"\"\n",
    "\n",
    "example_stop_words = [\"it\", \"we\", \"and\"]\n",
    "def contains_stop_words(sequence):\n",
    "    return \"Yes\" if len([x for x in example_stop_words if x in sequence]) > 0 else \"No\"\n",
    "\n",
    "# Demonstrate pre-stop word filtering \n",
    "example_review = \"My Family familiés purchased it car after our 1988 Ford Taurus Station Wagon went out!!!  We thought  well  since the purchase that was and good goodness car  why dont we try this one\"\n",
    "print(f\"Example review length {len(example_review.split())}\")\n",
    "print(f\"Example features contain stop words? {contains_stop_words(example_review)}\")\n",
    "print(example_review)\n",
    "print()\n",
    "\n",
    "# Demonstrate post-stop word filtering \n",
    "result = set(ingestor.tokenize_and_stem(example_review))\n",
    "print(f\"Example review tokenised, stemmed and stop word filtered length {len(result)}\")\n",
    "print(f\"Example processed features contain stop words? {contains_stop_words(result)}\")\n",
    "print(result)\n",
    "print()"
   ]
  },
  {
   "cell_type": "markdown",
   "metadata": {},
   "source": [
    "### Model Training"
   ]
  },
  {
   "cell_type": "markdown",
   "metadata": {},
   "source": [
    "#### Vectorisation Demonstration"
   ]
  },
  {
   "cell_type": "markdown",
   "metadata": {},
   "source": [
    "This implementation uses scikit-learn's CountVectorizer to encode review features. The vectoriser counts the occurrences of each feature, building a simplified, vector representation of the original corpus.\n",
    "\n",
    "An example is shown below."
   ]
  },
  {
   "cell_type": "code",
   "execution_count": 4,
   "metadata": {},
   "outputs": [
    {
     "name": "stdout",
     "output_type": "stream",
     "text": [
      "Vector representation of example_review: [[1 2 1 2 1 2 1 2 1 1 1 1 1 1 1 1]]\n",
      "Features extracted from example_review: ['1988' 'car' 'dont' 'famili' 'ford' 'good' 'one' 'purchas' 'sinc'\n",
      " 'station' 'taurus' 'thought' 'tri' 'wagon' 'well' 'went']\n"
     ]
    }
   ],
   "source": [
    "\"\"\"\n",
    "Define a base Naive Bayes model, suitable for extension.\n",
    "Explicitly demonstrate vectorisation.\n",
    "\"\"\"\n",
    "\n",
    "class NaiveBayesModel(ABC):\n",
    "    \"\"\"\n",
    "    Base Naive Bayes model class, using scikit-learn's MultinomialNB and CountVectorizer.\n",
    "    Contains methods for both conventional train/test split and cross validation evaluation.\n",
    "    \"\"\"    \n",
    "    def __init__(self, tokenize_and_stem = ingestor.tokenize_and_stem, alpha = 1):\n",
    "        self.vectorizer = CountVectorizer(tokenizer = tokenize_and_stem)\n",
    "        self.clf = MultinomialNB(alpha = alpha)\n",
    "        \n",
    "    def train_model(self, df):\n",
    "        # Assume that the first column contains labels and the second reviews\n",
    "        y_train = df.values[:, 0]\n",
    "        train_reviews = df.values[:, 1]\n",
    "        # Fit the vectorizer on training reviews\n",
    "        X_train = self.vectorizer.fit_transform(train_reviews)\n",
    "        # Train the classifier\n",
    "        self.clf.fit(X_train, y_train)\n",
    "\n",
    "    def test_model(self, df):\n",
    "        # Similarly, assume first column are labels, second column reviews\n",
    "        y_test = df.values[:, 0]\n",
    "        test_reviews = df.values[:, 1]\n",
    "        # Transform the test data using the already fitted vectorizer\n",
    "        X_test = self.vectorizer.transform(test_reviews)\n",
    "        # Predict using the classifier\n",
    "        predictions = self.clf.predict(X_test)\n",
    "        score = self.clf.score(X_test, y_test)\n",
    "        return y_test, predictions, score\n",
    "    \n",
    "    def cross_validation(self, df):\n",
    "        y = df.values[:, 0]\n",
    "        reviews = df.values[:, 1]\n",
    "        # Here we use fit_transform to build the feature matrix for cross-validation\n",
    "        X = self.vectorizer.fit_transform(reviews)\n",
    "        # Create a StratifiedKFold object to maintain class balance with 5 folds\n",
    "        skf = StratifiedKFold(n_splits=5, shuffle=True, random_state=1)\n",
    "        # Run cross-validation using up to 4 parallel jobs)\n",
    "        return cross_val_score(self.clf, X, y, n_jobs=4, cv=skf, scoring=\"accuracy\")\n",
    "\n",
    "vector_example_naive_bayes_model = NaiveBayesModel()\n",
    "example_df = pd.DataFrame({'Review': [example_review]})\n",
    "\n",
    "X_example = vector_example_naive_bayes_model.vectorizer.fit_transform(example_df['Review'])\n",
    "print(f\"Vector representation of example_review: {X_example.todense()}\")\n",
    "print(f\"Features extracted from example_review: {vector_example_naive_bayes_model.vectorizer.get_feature_names_out()}\")"
   ]
  },
  {
   "cell_type": "markdown",
   "metadata": {},
   "source": [
    "A further example is provided below demonstrating vectorisation for the first 25 reviews from the original data set.\n",
    "\n",
    "Furthermore, a heatmap is provided to visualise the distribution of features in the first 25 reviews. Only 75 features are shown to improve the readability of the heatmap."
   ]
  },
  {
   "cell_type": "code",
   "execution_count": 5,
   "metadata": {},
   "outputs": [
    {
     "name": "stdout",
     "output_type": "stream",
     "text": [
      "Vector representation of first 25 reviews:\n",
      "[[0 0 0 0 0 0 0 0 0 0 0 0 0 0 0 0 0 0 0 0 0 0 0 0 0 0 0 0 0 0 1 0 0 0 0 0\n",
      "  0 0 1 0 0 0 0 0 0 0 0 0 0 0 0 0 0 0 0 0 0 0 0 0 0 0 0 0 0 0 0 0 0 0 0 1\n",
      "  0 0 0]\n",
      " [0 0 0 0 0 0 0 0 0 0 0 0 0 0 0 0 0 0 0 0 0 0 0 1 0 0 0 0 0 0 1 1 0 0 0 1\n",
      "  0 0 0 0 0 0 0 0 0 0 0 0 0 2 0 0 0 0 1 0 0 1 0 0 0 0 0 0 1 0 0 0 0 0 0 0\n",
      "  0 0 0]\n",
      " [0 0 0 0 0 0 0 0 0 0 0 0 0 0 0 0 0 0 0 0 0 0 0 0 0 0 0 0 0 0 1 0 0 1 0 0\n",
      "  0 4 0 0 0 0 0 0 0 0 0 0 0 2 0 0 0 0 3 1 0 0 0 0 0 0 1 0 0 0 0 0 0 0 0 1\n",
      "  0 0 0]\n",
      " [0 2 0 1 0 0 0 0 1 0 0 0 0 0 0 0 0 0 1 1 0 0 0 0 0 0 0 0 0 0 1 0 0 0 0 0\n",
      "  0 0 0 0 0 0 0 0 0 0 0 0 0 4 0 0 0 0 3 0 0 0 0 0 1 0 2 0 0 1 0 0 0 0 0 0\n",
      "  0 0 0]\n",
      " [0 0 0 1 0 0 0 1 0 0 0 0 1 0 0 0 0 1 0 2 0 0 0 0 0 0 0 0 0 0 0 0 0 0 0 0\n",
      "  0 1 0 0 0 0 0 0 0 0 0 0 0 0 0 0 0 0 0 0 0 0 0 0 0 0 0 0 0 0 0 0 0 0 0 0\n",
      "  0 0 0]\n",
      " [0 0 0 0 0 0 0 0 0 0 0 0 0 0 0 0 0 0 0 4 0 0 0 0 0 0 0 0 0 0 0 0 0 0 0 0\n",
      "  0 0 0 0 0 0 0 0 0 0 0 0 0 1 0 0 0 0 0 0 1 0 0 0 0 0 0 0 0 0 0 0 0 0 0 0\n",
      "  0 0 0]\n",
      " [0 0 0 0 0 0 0 0 0 0 0 0 0 0 0 0 0 0 0 0 0 1 0 0 0 0 0 0 0 0 0 0 0 0 0 0\n",
      "  0 0 0 0 0 0 0 0 0 0 0 0 0 0 0 0 0 0 0 0 0 0 0 0 0 0 1 0 0 0 0 0 0 0 0 1\n",
      "  0 0 0]\n",
      " [0 0 0 0 0 1 0 0 0 0 0 0 0 0 0 0 0 1 0 2 0 0 0 0 0 0 0 0 0 0 0 0 0 0 0 0\n",
      "  0 2 0 0 0 0 0 0 2 0 0 0 0 1 0 0 0 1 0 0 0 0 0 0 0 0 1 0 0 0 0 0 0 0 0 1\n",
      "  0 0 0]\n",
      " [0 0 0 0 0 0 0 1 0 0 1 0 0 0 0 1 1 1 0 1 2 0 0 0 0 0 0 0 0 0 0 0 1 1 0 0\n",
      "  0 0 0 0 0 0 0 0 0 2 0 1 0 3 0 0 0 1 0 2 0 0 0 0 0 1 2 0 0 1 0 0 0 0 3 0\n",
      "  0 0 0]\n",
      " [0 0 0 0 0 0 0 0 0 0 0 0 0 0 0 0 0 0 0 0 0 0 0 0 0 0 0 0 0 0 0 0 0 0 0 0\n",
      "  0 0 0 0 0 0 0 0 0 0 0 0 0 3 0 0 0 0 0 0 0 0 0 0 0 0 1 0 0 0 0 0 0 0 0 1\n",
      "  0 0 0]\n",
      " [0 0 0 0 0 0 1 0 0 0 0 0 0 1 1 0 0 0 0 4 0 0 0 1 0 0 0 1 0 0 0 0 1 0 0 0\n",
      "  0 0 0 0 0 0 0 0 0 0 0 0 0 2 0 0 0 0 0 0 0 0 0 0 2 1 1 0 0 0 0 0 1 1 0 0\n",
      "  2 0 0]\n",
      " [0 0 0 0 0 0 0 0 0 0 0 0 0 0 0 0 0 0 0 0 0 0 0 0 0 0 0 0 0 2 0 0 0 3 0 0\n",
      "  0 0 0 0 0 0 0 0 0 0 0 0 0 6 1 0 1 0 0 0 0 0 0 0 1 0 1 0 4 1 0 0 2 0 0 5\n",
      "  0 0 0]\n",
      " [0 0 0 0 0 0 0 0 0 0 0 0 0 0 0 0 0 0 0 1 0 0 0 0 0 0 0 0 0 0 0 0 0 0 0 0\n",
      "  1 0 0 0 0 0 0 0 0 0 0 0 0 0 0 0 0 0 0 0 0 0 0 0 0 0 0 0 0 0 0 0 0 0 0 0\n",
      "  0 0 0]\n",
      " [0 0 0 0 0 0 0 0 0 0 0 0 0 0 0 0 0 0 0 0 0 1 0 0 0 0 0 0 0 0 0 0 0 0 0 1\n",
      "  0 0 0 0 0 1 0 0 0 0 0 0 1 0 0 0 0 0 0 0 0 0 0 0 1 0 0 0 0 0 1 1 0 0 0 0\n",
      "  0 0 0]\n",
      " [0 0 0 0 0 0 0 0 0 0 0 0 0 0 0 0 0 0 0 0 0 0 0 0 0 0 0 1 0 0 0 0 0 0 0 0\n",
      "  1 0 0 0 0 0 0 1 0 0 0 0 0 4 0 0 0 0 1 0 0 0 0 2 0 0 0 0 0 0 0 0 0 0 0 0\n",
      "  0 0 0]\n",
      " [0 0 3 0 0 0 0 1 0 0 0 0 0 0 0 0 0 0 0 1 0 0 0 0 0 0 0 0 0 0 1 0 0 0 0 1\n",
      "  0 0 0 0 0 0 0 0 0 0 0 0 0 1 0 0 0 0 0 0 1 0 0 0 1 0 0 0 0 0 0 0 0 0 0 0\n",
      "  0 0 0]\n",
      " [0 0 0 0 0 0 0 0 0 0 0 0 0 0 0 0 0 0 0 0 1 0 0 0 0 0 0 0 0 0 0 0 0 0 0 1\n",
      "  0 0 0 0 0 0 0 0 0 0 1 0 0 1 0 0 0 0 0 0 0 0 0 0 0 0 0 0 0 0 0 0 0 0 0 2\n",
      "  0 0 0]\n",
      " [0 0 0 0 0 0 0 0 0 0 0 0 0 0 0 0 0 0 0 1 0 0 0 0 0 0 0 0 1 0 0 0 0 0 0 0\n",
      "  0 0 0 0 0 0 0 0 0 0 0 0 0 1 0 0 0 0 0 0 0 0 0 0 0 0 0 0 0 0 0 0 0 0 0 1\n",
      "  0 0 0]\n",
      " [0 0 0 0 1 0 0 0 0 1 0 0 0 0 0 0 0 0 0 1 0 0 0 0 1 0 0 0 0 0 0 0 0 0 0 0\n",
      "  0 0 0 0 0 0 0 0 0 0 0 0 0 0 0 0 0 0 0 0 0 0 0 0 0 0 0 0 0 0 0 0 0 0 0 1\n",
      "  0 1 0]\n",
      " [0 0 0 0 0 3 0 0 0 0 0 0 0 0 0 0 0 0 1 2 0 0 0 1 0 0 0 0 0 0 0 0 0 0 0 1\n",
      "  0 1 0 0 0 0 0 0 0 0 0 0 0 3 0 0 0 0 1 0 0 0 0 0 0 0 1 0 0 0 0 0 0 0 0 0\n",
      "  0 0 0]\n",
      " [0 0 0 0 0 0 0 0 0 0 0 0 0 0 0 0 0 0 0 0 0 1 0 0 0 1 0 0 0 1 0 0 0 0 0 0\n",
      "  0 0 0 0 0 0 0 0 0 0 0 0 0 3 0 0 0 0 0 0 0 0 0 0 0 0 0 0 0 0 0 0 0 0 0 0\n",
      "  0 0 0]\n",
      " [1 0 0 0 0 0 0 0 0 0 0 0 0 0 0 0 0 0 0 0 0 0 0 0 0 0 0 0 0 0 0 0 0 0 0 0\n",
      "  0 0 0 0 1 0 0 0 0 0 0 0 0 2 0 0 0 0 0 2 0 0 0 0 0 0 0 0 0 0 0 0 0 0 0 0\n",
      "  0 0 0]\n",
      " [0 0 0 1 0 0 0 1 0 0 0 1 0 0 0 0 0 0 0 0 0 0 1 0 0 0 0 0 0 0 0 0 0 3 1 0\n",
      "  0 0 0 1 0 0 0 0 0 0 0 0 0 3 0 0 0 2 0 0 0 0 1 0 0 0 0 1 0 0 0 0 0 0 0 1\n",
      "  0 0 1]\n",
      " [0 1 0 0 0 0 0 0 0 0 0 0 0 0 0 0 0 0 0 0 0 0 0 0 0 0 0 0 0 0 0 0 0 0 0 0\n",
      "  0 0 1 0 0 0 1 0 0 0 0 0 0 0 0 0 0 0 0 0 0 0 0 0 0 0 1 0 0 0 0 0 0 0 0 0\n",
      "  0 0 0]\n",
      " [0 0 0 0 0 0 0 0 0 0 0 0 0 0 0 0 0 1 0 0 0 0 0 0 0 0 1 0 0 0 1 0 0 0 0 0\n",
      "  0 0 0 0 0 0 0 0 0 0 0 0 0 1 0 1 0 0 0 0 0 0 0 0 0 0 0 0 0 0 1 0 1 0 0 1\n",
      "  0 0 0]]\n",
      "\n"
     ]
    }
   ],
   "source": [
    "\"\"\"\n",
    "Further demonstrate vectorisation.\n",
    "\"\"\"\n",
    "\n",
    "X_example = vector_example_naive_bayes_model.vectorizer.fit_transform(df['Review'][0:25])\n",
    "start, end = 500, 575\n",
    "dense_X = X_example.todense()[:, start:end]\n",
    "feature_names = vector_example_naive_bayes_model.vectorizer.get_feature_names_out()\n",
    "short_feature_names = vector_example_naive_bayes_model.vectorizer.get_feature_names_out()[start:end]\n",
    "print(f\"Vector representation of first 25 reviews:\")\n",
    "print(dense_X)\n",
    "print()"
   ]
  },
  {
   "cell_type": "code",
   "execution_count": 6,
   "metadata": {},
   "outputs": [
    {
     "name": "stdout",
     "output_type": "stream",
     "text": [
      "75 features out of 1441 extracted from first 25 reviews:\n",
      "['factor' 'factori' 'fad' 'fail' 'faith' 'fall' 'fals' 'famili' 'fantast'\n",
      " 'far' 'fare' 'farmer' 'fast' 'fatal' 'fault' 'fear' 'feast' 'featur'\n",
      " 'feedback' 'feel' 'feet' 'fell' 'fellow' 'felt' 'fiat' 'fight' 'figur'\n",
      " 'fill' 'film' 'final' 'find' 'fine' 'firm' 'first' 'fishermen' 'fit'\n",
      " 'five' 'fix' 'flat' 'flawless' 'fli' 'flower' 'fluid' 'flutter' 'focus'\n",
      " 'fold' 'fool' 'foot' 'footstool' 'ford' 'forev' 'former' 'fort' 'forward'\n",
      " 'found' 'four' 'frame' 'francisco' 'free' 'freeway' 'friend' 'frighten'\n",
      " 'front' 'frustrat' 'fuel' 'full' 'fun' 'furnitur' 'gallon' 'galor'\n",
      " 'garag' 'gas' 'gasolin' 'gastank' 'gear']\n"
     ]
    },
    {
     "data": {
      "image/png": "[encoded data removed]",
      "text/plain": [
       "<Figure size 1600x600 with 2 Axes>"
      ]
     },
     "metadata": {},
     "output_type": "display_data"
    }
   ],
   "source": [
    "\"\"\"\n",
    "Further demonstrate vectorisation.\n",
    "\"\"\"\n",
    "\n",
    "print(f\"{end - start} features out of {len(feature_names)} extracted from first 25 reviews:\")\n",
    "print(short_feature_names)\n",
    "\n",
    "plt.figure(figsize=(16, 6))\n",
    "plt.imshow(dense_X, aspect='auto', cmap='Blues')\n",
    "plt.xlabel(\"Features\")\n",
    "plt.ylabel(\"Review Index\")\n",
    "plt.title(\"Heatmap of Vectorized Word Counts\")\n",
    "plt.colorbar(label=\"Word Count\")\n",
    "plt.xticks(ticks=np.arange(len(short_feature_names)), labels=short_feature_names, rotation=90)\n",
    "plt.yticks(ticks=np.arange(dense_X.shape[0]), labels=np.arange(1, dense_X.shape[0]+1))\n",
    "plt.tight_layout()\n",
    "plt.show()"
   ]
  },
  {
   "cell_type": "markdown",
   "metadata": {},
   "source": [
    "#### Data Leakage\n",
    "\n",
    "The model is made up of two main methods, train_model and test_model. Internally, train_model uses scikit-learn's CountVectorizer#fit_transform method to create a matrix where each row is a review, each column a distinct token and each cell the count of the respective token per review. train_model is called with train_df, where train_df is a stratified random selection of 80% of the original data set. train_model then trains a multinomial Naive Bayes model on these feature counts.\n",
    "\n",
    "test_model tests the Naive Bayes model using the remaining 20% of the original data set by vectorising each review in test_df using the CountVectorizer#transform method. This differs from CountVectorizer#fit_transform in that, when generating the matrix of feature counts, new tokens in the test_df data set are ignored and predictions are made using only tokens first encountered in train_df. This is how this implementation handles features that appear only in the test data and not in the training data.\n",
    "\n",
    "The downside to this behaviour is that we may implicitly ignore predictively important features in the test data set because the training data set did not have them, and so the model could not be trained using them. However, this behaviour is necessary to avoid data leakage between the training and test data sets.\n",
    "\n",
    "Another possible form of data leakage can occur when features appear exclusively in one class of the training data and not the other. If those features are an artifact of the training sample rather than truly representative of the class, the model may overfit to those features. Therefore, when testing on data with a different feature distribution, the classifier's performance may degrade. This behaviour is mitigated by the inclusion of Laplace smoothing with a factor of 1, which reduces the impact of outliers in the distribution."
   ]
  },
  {
   "cell_type": "markdown",
   "metadata": {},
   "source": [
    "#### Training and Prediction"
   ]
  },
  {
   "cell_type": "markdown",
   "metadata": {},
   "source": [
    "scikit-learn's MultinomialNB model is used to classify the car reviews by naive Bayes with a Laplace smoothing factor of 1. Multinomial Naive Bayes is a bag-of-words technique in which documents are described by word occurrences, and the relative position of the words in the document is ignored.\n",
    "\n",
    "The model is trained with 80% of the original data set, train_df, and is tested with the remaining 20%, test_df."
   ]
  },
  {
   "cell_type": "code",
   "execution_count": 7,
   "metadata": {},
   "outputs": [
    {
     "name": "stdout",
     "output_type": "stream",
     "text": [
      "Naive Bayes accuracy: 0.7753623188405797\n"
     ]
    }
   ],
   "source": [
    "\"\"\"\n",
    "Train and test the Naive Bayes model.\n",
    "\"\"\"\n",
    "\n",
    "task_1_naive_bayes_model = NaiveBayesModel()\n",
    "clf = task_1_naive_bayes_model.train_model(train_df)\n",
    "task_1_y_test, task_1_predictions, task_1_score = task_1_naive_bayes_model.test_model(test_df)\n",
    "print(f\"Naive Bayes accuracy: {task_1_score}\")"
   ]
  },
  {
   "cell_type": "markdown",
   "metadata": {},
   "source": [
    "### Reporting"
   ]
  },
  {
   "cell_type": "markdown",
   "metadata": {},
   "source": [
    "A combination of scikit-learn, matplotlib and seaborn are used to create a confusion matrix graphic displaying the performance of the classifier, which has an accuracy of approximately 77.54%."
   ]
  },
  {
   "cell_type": "code",
   "execution_count": 8,
   "metadata": {},
   "outputs": [
    {
     "data": {
      "image/png": "[encoded data removed]",
      "text/plain": [
       "<Figure size 800x600 with 2 Axes>"
      ]
     },
     "metadata": {},
     "output_type": "display_data"
    }
   ],
   "source": [
    "\"\"\"\n",
    "Define the confusion matrix generating method and render the matrix.\n",
    "\"\"\"\n",
    "\n",
    "def plot_confusion_matrix(true_values, predictions):\n",
    "    matrix = confusion_matrix(y_true=true_values, y_pred=predictions, normalize=\"all\")\n",
    "\n",
    "    cell_labels = np.array([[\"TN\", \"FP\"],\n",
    "                            [\"FN\", \"TP\"]])\n",
    "    annot = np.empty_like(matrix, dtype=object)\n",
    "    for i in range(2):\n",
    "        for j in range(2):\n",
    "            annot[i, j] = f\"{cell_labels[i, j]}\\n{matrix[i, j]:.5f}\"\n",
    "    fmt = \"\"\n",
    "        \n",
    "    classes = np.unique(true_values)\n",
    "    plt.figure(figsize=(8, 6))\n",
    "    sns.heatmap(matrix, annot=annot, fmt=fmt, cmap=\"Blues\",\n",
    "                xticklabels=classes, yticklabels=classes)\n",
    "    plt.xlabel(\"Predicted Label\")\n",
    "    plt.ylabel(\"True Label\")\n",
    "    plt.title(\"Confusion Matrix\")\n",
    "    plt.tight_layout()\n",
    "    plt.show()\n",
    "    \n",
    "    # Extract the confusion matrix components:\n",
    "    TN, FP = matrix[0, 0], matrix[0, 1]\n",
    "    FN, TP = matrix[1, 0], matrix[1, 1]\n",
    "\n",
    "    # Calculate precision, recall, and F1 score for the positive class\n",
    "    precision = TP / (TP + FP) if (TP + FP) > 0 else 0\n",
    "    recall = TP / (TP + FN) if (TP + FN) > 0 else 0\n",
    "    f1_score = 2 * precision * recall / (precision + recall) if (precision + recall) > 0 else 0\n",
    "\n",
    "    return precision, recall, f1_score \n",
    "\n",
    "task_1_precision, task_1_recall, task_1_f1_score = plot_confusion_matrix(task_1_y_test, task_1_predictions)"
   ]
  },
  {
   "cell_type": "markdown",
   "metadata": {},
   "source": [
    "## Task 2"
   ]
  },
  {
   "cell_type": "markdown",
   "metadata": {},
   "source": [
    "## Approach\n",
    "\n",
    "I have chosen to apply modifications to the original Naive Bayes implementation, with a particular focus on enhancing the pre-processing of the data used to train the model. The core hypothesis being investigated is, if more semantic information and a higher density of highly predictive features are used to train the model, then the model will be able to better differentiate between positive and negative car reviews. \n",
    "\n",
    "Capturing more semantic information is attempted by the introduction of lemmatisation and n-gram feature generation. Realising a higher density of highly predictive features is attempted by the introduction of term-frequency inverse-document-frequency vectorisation and feature selection.\n",
    "\n",
    "These modifications will be detailed in the sections below."
   ]
  },
  {
   "cell_type": "markdown",
   "metadata": {},
   "source": [
    "### Defining a Cross Validation Baseline\n",
    "\n",
    "The investigations below will use cross validation to assess the impact of the improvements individually and in aggregate. Therefore, a baseline accuracy using Task 1's Naive Bayes model must be established so that the marginal impact of the improvements can be evaluated."
   ]
  },
  {
   "cell_type": "code",
   "execution_count": 9,
   "metadata": {},
   "outputs": [
    {
     "name": "stdout",
     "output_type": "stream",
     "text": [
      "         Model  Mean CV Accuracy  Marginal Accuracy Gain\n",
      "0  Naive Bayes          0.785076                       0\n"
     ]
    }
   ],
   "source": [
    "\"\"\"\n",
    "Define a cross validation accuracy baseline using the model created in Task 1.\n",
    "\"\"\"\n",
    "\n",
    "cross_val = task_1_naive_bayes_model.cross_validation(df)\n",
    "model_cross_val_accuracy_reference = np.mean(cross_val)\n",
    "\n",
    "results = []\n",
    "results.append({\n",
    "    \"Model\": \"Naive Bayes\",\n",
    "    \"Mean CV Accuracy\": model_cross_val_accuracy_reference,\n",
    "    \"Marginal Accuracy Gain\": 0\n",
    "})\n",
    "results_df = pd.DataFrame(results)\n",
    "print(results_df)"
   ]
  },
  {
   "cell_type": "markdown",
   "metadata": {},
   "source": [
    "## Pre-Processing Improvements\n",
    "\n",
    "Several improvements have been made to the way the text is modelled prior to training. Machine learning and statistical models are trained on a vectorised interpretation of the corpus, and the quality of the vectorised input is correlated to the predictive power of the models (Russell and Norvig, 2022 p.876). A key focus of this work is not to strive for increased accuracy at any cost as compared to Task 1, rather it is to focus on improving the Naive Bayes model holistically and without overfitting to this limited training set.\n",
    "\n",
    "Each proposed improvement will be tested against the model and pre-processing pipeline used in Task 1 to build an understanding of the marginal benefit each brings. Stratified 5-fold cross validation is used throughout Task 2 as an alternative to the 80/20 split mandated in Task 1, because it allows an unbiased evaluation and reduces variance (Bengio and Grandvalet, 2004). The folds are stratified to maintain the equal class balance of the original data set, which is important to prevent overfitting to an otherwise dominant class. \n",
    "\n",
    "A final evaluation will be made with the original 80/20 split for direct comparison with Task 1, but cross validation ensures a more realistic evaluation of the choices made in Task 2, and would ensure the resultant model generalises better to unseen data.\n",
    "\n",
    "Review ingestion is unchanged as compared Task 1, with pandas used to read the car reviews CSV, and dataframes used extensively throughout for data manipulation.\n",
    "\n",
    "### Lemmatisation\n",
    "\n",
    "The tokenization algorithm is unchanged except for the replacement of stemming with lemmatisation. Both techniques reduce the inflected form of a token to a common root form, but lemmatisation reduces a token to an existing normalised form, whereas stemming only removes common suffixes (IBM, 2023). \n",
    "\n",
    "By integrating lemmatisation into the text encoding pipeline, similar tokens are consolidated into a single normalized form, resulting in a feature distribution that more accurately captures semantic information. In theory, lemmatisation unlocks a higher performance ceiling by enabling the model to capture nuanced differences in word usage (Siddhartha BS and YM, 2021). However, despite being theoretically superior, it may not lead to a real world improvement in model performance (Stanford, 2009).\n",
    "\n",
    "The below code snippet partially replicates the tokenisation demonstration shown in Task 1. Observe how the output token set has increased in size from 16 to 18 after moving from stemming to tokenization. In this toy example, the increase in feature set size has reduced the predictive power of the otherwise stemmed tokens \"purchas\" and \"famili\". On the other hand, the model is aware of the morphological difference between the forms of, for example, \"good\" and \"goodness\", which could increase performance when applied across many training examples."
   ]
  },
  {
   "cell_type": "code",
   "execution_count": 10,
   "metadata": {},
   "outputs": [
    {
     "name": "stdout",
     "output_type": "stream",
     "text": [
      "Example review length 33\n",
      "My Family familiés purchased it car after our 1988 Ford Taurus Station Wagon went out!!!  We thought  well  since the purchase that was and good goodness car  why dont we try this one\n",
      "\n",
      "Example review tokenised, stemmed and stop word filtered length 16\n",
      "{'car', '1988', 'went', 'tri', 'ford', 'purchas', 'good', 'well', 'one', 'dont', 'thought', 'sinc', 'taurus', 'wagon', 'famili', 'station'}\n",
      "\n",
      "Example review tokenised, lemmatised and stop word filtered length 18\n",
      "{'car', 'since', '1988', 'purchase', 'went', 'ford', 'goodness', 'try', 'good', 'well', 'one', 'dont', 'purchased', 'family', 'taurus', 'wagon', 'thought', 'station'}\n",
      "\n"
     ]
    }
   ],
   "source": [
    "\"\"\"\n",
    "Define the advanced ingestor that utilises lemmatisation.\n",
    "Explicitly demonstrate lemmatisation.\n",
    "\"\"\"\n",
    "\n",
    "class AdvancedIngestor(Ingestor):\n",
    "    \"\"\"\n",
    "    Advanced ingestor extends the base ingestor from Task 1.\n",
    "    Uses lemmatisation instead of stemming.\n",
    "    \"\"\"\n",
    "    def __init__(self):\n",
    "        super().__init__()\n",
    "\n",
    "    def tokenize_and_stem(self, text):\n",
    "        # Remove accents\n",
    "        stripped_text = self.strip_accents(text)\n",
    "        \n",
    "        # Tokenize text\n",
    "        tokens = word_tokenize(stripped_text)\n",
    "        \n",
    "        # Include only alphanumeric tokens\n",
    "        tokens = [token.lower() for token in tokens if token.isalnum()]\n",
    "        \n",
    "        # Remove stop words\n",
    "        filtered_tokens = [word for word in tokens if word not in self.stop_words]\n",
    "        \n",
    "        # Lemmatise tokens\n",
    "        return [wnl().lemmatize(token) for token in filtered_tokens]\n",
    "\n",
    "advanced_ingestor = AdvancedIngestor()\n",
    "df = advanced_ingestor.ingest_reviews()\n",
    "\n",
    "example_review = \"My Family familiés purchased it car after our 1988 Ford Taurus Station Wagon went out!!!  We thought  well  since the purchase that was and good goodness car  why dont we try this one\"\n",
    "print(f\"Example review length {len(example_review.split())}\")\n",
    "print(example_review)\n",
    "print()\n",
    "\n",
    "result = set(ingestor.tokenize_and_stem(example_review))\n",
    "print(f\"Example review tokenised, stemmed and stop word filtered length {len(result)}\")\n",
    "print(result)\n",
    "print()\n",
    "\n",
    "result = set(advanced_ingestor.tokenize_and_stem(example_review))\n",
    "print(f\"Example review tokenised, lemmatised and stop word filtered length {len(result)}\")\n",
    "print(result)\n",
    "print()"
   ]
  },
  {
   "cell_type": "markdown",
   "metadata": {},
   "source": [
    "When the whole dataset is tokenised using lemmatisation instead of stemming, and vectorised using the same CountVectorizer used in Task 1, the feature set increases by 3900 features, or approximately 36%."
   ]
  },
  {
   "cell_type": "code",
   "execution_count": 11,
   "metadata": {},
   "outputs": [
    {
     "name": "stdout",
     "output_type": "stream",
     "text": [
      "Number of processed features using stemming: 10942\n",
      "Number of processed features using lemmatisation: 14832\n"
     ]
    }
   ],
   "source": [
    "\"\"\"\n",
    "Explicitly demonstrate the effect of lemmatisation on corpus vectorisation.\n",
    "\"\"\"\n",
    "\n",
    "vectorizer = CountVectorizer(tokenizer = ingestor.tokenize_and_stem)\n",
    "X = vectorizer.fit_transform(df['Review'])\n",
    "print(f\"Number of processed features using stemming: {len(vectorizer.get_feature_names_out())}\")\n",
    "\n",
    "vectorizer = CountVectorizer(tokenizer = advanced_ingestor.tokenize_and_stem)\n",
    "X = vectorizer.fit_transform(df['Review'])\n",
    "print(f\"Number of processed features using lemmatisation: {len(vectorizer.get_feature_names_out())}\")"
   ]
  },
  {
   "cell_type": "markdown",
   "metadata": {},
   "source": [
    "The impact on model performance of the adoption of lemmatisation over stemming can be observed by testing both approaches using cross validation."
   ]
  },
  {
   "cell_type": "code",
   "execution_count": 12,
   "metadata": {},
   "outputs": [
    {
     "name": "stdout",
     "output_type": "stream",
     "text": [
      "                            Model  Mean CV Accuracy  Marginal Accuracy Gain\n",
      "0  Naive Bayes with Lemmatisation          0.780743               -0.004332\n"
     ]
    }
   ],
   "source": [
    "\"\"\"\n",
    "Generate cross validation results for lemmatisation.\n",
    "\"\"\"\n",
    "\n",
    "class AdvancedNaiveBayesModel(NaiveBayesModel):\n",
    "    \"\"\"\n",
    "    Extends the base Naive Bayes model to use the advanced ingestor.\n",
    "    \"\"\"\n",
    "    def __init__(self):\n",
    "        super().__init__(tokenize_and_stem = advanced_ingestor.tokenize_and_stem)\n",
    "\n",
    "results = []        \n",
    "model = AdvancedNaiveBayesModel()\n",
    "cross_val = model.cross_validation(df)\n",
    "accuracy = np.mean(cross_val)\n",
    "results.append({\n",
    "    \"Model\": \"Naive Bayes with Lemmatisation\",\n",
    "    \"Mean CV Accuracy\": accuracy,\n",
    "    \"Marginal Accuracy Gain\": accuracy - model_cross_val_accuracy_reference\n",
    "})\n",
    "\n",
    "results_df = pd.DataFrame(results)\n",
    "print(results_df)"
   ]
  },
  {
   "cell_type": "markdown",
   "metadata": {},
   "source": [
    "The replacement of stemming with lemmatisation results in a reduction in accuracy of 0.43%. However, consider that a 36% increase in the size of the feature set results in only a marginal reduction in accuracy for the cross validated model, and this result is aligned with the existing research (Senders, 2021 p.16). It is reasonable to hypothesise that a more accurate semantic representation, when combined with techniques to be discussed below such as feature selection, are worth the observed marginal cost on this data set."
   ]
  },
  {
   "cell_type": "markdown",
   "metadata": {},
   "source": [
    "### Feature Weighting\n",
    "\n",
    "One common technique to improve model performance in text classification is to weight features not only by their frequency within individual documents, but also by their frequency across the whole corpus, and Term Frequency-Inverse Document Frequency (TF-IDF) is widely used for this purpose (Géron, 2022 p.472). Its key advantage is that it reduces the impact of common words and emphasises words that are more distinctive.\n",
    "\n",
    "TF-IDF can be broken down into the following:\n",
    "- Term Frequency (TF): measures how frequently a token appears in a document\n",
    "- Inverse Document Frequency (IDF): measures how rare a token is across all documents\n",
    "\n",
    "A token that appears frequently in a particular document but rarely in others is given a high weight, making it more predictive for that document's class. In contrast, common tokens receive lower weights, lessening their predictive power. Tuning feature weights in this way can result in a more discriminative and robust feature representation compared to simple counts."
   ]
  },
  {
   "cell_type": "code",
   "execution_count": 13,
   "metadata": {},
   "outputs": [
    {
     "name": "stdout",
     "output_type": "stream",
     "text": [
      "                     Model  Mean CV Accuracy  Marginal Accuracy Gain\n",
      "0  Naive Bayes with TF-IDF          0.781455               -0.003621\n"
     ]
    }
   ],
   "source": [
    "\"\"\"\n",
    "Generate cross validation results for TF-IDF vectorisation.\n",
    "\"\"\"\n",
    "\n",
    "class NaiveBayesModelTfidf(NaiveBayesModel):\n",
    "    \"\"\"\n",
    "    Extends the base Naive Bayes model to use TF-IDF vectorisation.\n",
    "    \"\"\"\n",
    "    def __init__(self):\n",
    "        super().__init__()\n",
    "        self.vectorizer = TfidfVectorizer(tokenizer = ingestor.tokenize_and_stem)\n",
    "\n",
    "results = []\n",
    "model = NaiveBayesModelTfidf()\n",
    "cross_val = model.cross_validation(df)\n",
    "accuracy = np.mean(cross_val)\n",
    "results.append({\n",
    "    \"Model\": \"Naive Bayes with TF-IDF\",\n",
    "    \"Mean CV Accuracy\": accuracy,\n",
    "    \"Marginal Accuracy Gain\": accuracy - model_cross_val_accuracy_reference\n",
    "})\n",
    "\n",
    "results_df = pd.DataFrame(results)\n",
    "print(results_df)"
   ]
  },
  {
   "cell_type": "markdown",
   "metadata": {},
   "source": [
    "In theory, the use of TF-IDF produces a more informative feature set, leading to improved discrimination between classes. However, a small negative impact of -0.36% on model performance is observed."
   ]
  },
  {
   "cell_type": "markdown",
   "metadata": {},
   "source": [
    "### N-Gram Model\n",
    "\n",
    "An issue with the Naive Bayes implementation in Task 1 is that the tokens are independent from one another. It is possible for a token in context to mean something different than without it, for example, the token \"quarter\" has a different meaning in \"first quarter earnings\" as compared to \"fourth quarter touchdowns\" (Russell and Norvig, 2022 p.877). An n-gram is a sequence of words like \"first quarter earnings\", and we can derive them from a data set to capture phrases in our model. \n",
    "\n",
    "Generating n-grams will result in a significant increase in the size of the feature set, but they enable contextualisation of otherwise ambiguous tokens that may be powerful predictors. However, it is computationally infeasible to produce n-grams up to the size of the corpus itself, so this task evaluates the effect on the model when using up to a 4-gram representation of the reviews. The n-grams are generated using scikit-learn's vectorizer ngram_range feature, and for the purposes of this task, all n-grams of length 1 to n, where n is less than 5, are calculated from the corpus."
   ]
  },
  {
   "cell_type": "code",
   "execution_count": 14,
   "metadata": {},
   "outputs": [
    {
     "name": "stdout",
     "output_type": "stream",
     "text": [
      "Number of features calculated when using n-gram range (1, 1): 10942\n",
      "Number of features calculated when using n-gram range (1, 2): 201354\n",
      "Number of features calculated when using n-gram range (1, 3): 496372\n",
      "Number of features calculated when using n-gram range (1, 4): 805064\n",
      "                      Model N-Gram Range  Mean CV Accuracy  \\\n",
      "0  Naive Bayes with N-Grams       (1, 1)          0.785076   \n",
      "1  Naive Bayes with N-Grams       (1, 2)          0.793774   \n",
      "2  Naive Bayes with N-Grams       (1, 3)          0.791613   \n",
      "3  Naive Bayes with N-Grams       (1, 4)          0.783655   \n",
      "\n",
      "   Marginal Accuracy Gain  \n",
      "0                0.000000  \n",
      "1                0.008698  \n",
      "2                0.006537  \n",
      "3               -0.001420  \n"
     ]
    }
   ],
   "source": [
    "\"\"\"\n",
    "Generate cross validation results using various n-gram ranges.\n",
    "\"\"\"\n",
    "\n",
    "results = []\n",
    "for i in [1,2,3,4]:\n",
    "    ngram_range = (1, i)\n",
    "    model = NaiveBayesModel()\n",
    "    # Override the vectorizer's ngram_range parameter with the range to be tested\n",
    "    model.vectorizer.ngram_range = ngram_range\n",
    "    X = model.vectorizer.fit_transform(df['Review'])\n",
    "    print(f\"Number of features calculated when using n-gram range {ngram_range}: {len(model.vectorizer.get_feature_names_out())}\")\n",
    "\n",
    "    cross_val = model.cross_validation(df)\n",
    "    accuracy = np.mean(cross_val)\n",
    "    results.append({\n",
    "        \"Model\": \"Naive Bayes with N-Grams\",\n",
    "        \"N-Gram Range\": ngram_range,\n",
    "        \"Mean CV Accuracy\": np.mean(cross_val),\n",
    "        \"Marginal Accuracy Gain\": accuracy - model_cross_val_accuracy_reference\n",
    "    })\n",
    "\n",
    "results_df = pd.DataFrame(results)\n",
    "print(results_df)"
   ]
  },
  {
   "cell_type": "markdown",
   "metadata": {},
   "source": [
    "The n-gram range (1, 2) produced the best result with an average accuracy improvement relative to the Task 1 implementation of 0.87%. It is interesting to note that, despite an approximately 20 times increase in feature set size between n-gram ranges (1, 1) and (1, 2), the model is still marginally more performant, indicating that some of the bigrams have significant predictive power."
   ]
  },
  {
   "cell_type": "markdown",
   "metadata": {},
   "source": [
    "### Feature Selection\n",
    "\n",
    "As seen in the n-gram section above, even a relatively small data set like the car reviews used in this exercise can have a high dimensionality, with more than 800,000 features observed for n-grams ranging from 1 to 4 tokens. Feature selection has been proven to be effective in preparing high dimensionality data for various machine learning problems (Li et al., 2017), and it has been implemented to remove tokens that are rare, and therefore have a high variance in their predictive power (Russell and Norvig, 2022 p.876). A key issue in the sub-field of feature selection is the curse of dimensionality, which refers to phenomenon that data becomes more sparse in high dimensional space, which adversely affects algorithms designed for low dimensional inputs (Li et al., 2017). \n",
    "\n",
    "However, as can be observed in the Optimisation section below, Naive Bayes remains performant even when modelling high dimensionality data. Feature selection does yield a marginal increase in predictive power, and it also provides other non-functional benefits like improved training and inference time, and a more understandable, compact feature set.\n",
    "\n",
    "Assessing the relative impact on performance of feature selection compared to the Task 1 model is difficult because the default feature set, which includes only unigrams, has just 10,492 features, approximately an order of magnitude lower than what the final model in Task 2 will be trained on. Therefore, the testing in the snippet below will use much smaller restrictions on maximum feature set size than will be seen in the remainder of Task 2, in order to better visualize the impact of feature selection on model performance. "
   ]
  },
  {
   "cell_type": "code",
   "execution_count": 15,
   "metadata": {},
   "outputs": [
    {
     "name": "stdout",
     "output_type": "stream",
     "text": [
      "Number of features calculated when max_features = 100: 100\n",
      "Number of features calculated when max_features = 1000: 1000\n",
      "Number of features calculated when max_features = 5000: 5000\n",
      "Number of features calculated when max_features = None: 10942\n",
      "\n",
      "                                Model  Max Features  Mean CV Accuracy  \\\n",
      "0  Naive Bayes with Feature Selection         100.0          0.692440   \n",
      "1  Naive Bayes with Feature Selection        1000.0          0.774949   \n",
      "2  Naive Bayes with Feature Selection        5000.0          0.781458   \n",
      "3  Naive Bayes with Feature Selection           NaN          0.785076   \n",
      "\n",
      "   Marginal Accuracy Gain  \n",
      "0               -0.092636  \n",
      "1               -0.010127  \n",
      "2               -0.003618  \n",
      "3                0.000000  \n"
     ]
    }
   ],
   "source": [
    "\"\"\"\n",
    "Generate cross validation results for various maximum feature count configurations.\n",
    "\"\"\"\n",
    "\n",
    "results = []\n",
    "for max_features in [100, 1000, 5000, None]:\n",
    "    class NaiveBayesModelMaxFeatures(NaiveBayesModel):\n",
    "        \"\"\"\n",
    "        Extends the base Naive Bayes model to use maximum feature constraints.\n",
    "        \"\"\"\n",
    "        def __init__(self):\n",
    "            super().__init__()\n",
    "            self.vectorizer = CountVectorizer(tokenizer = ingestor.tokenize_and_stem, max_features = max_features)\n",
    "    model = NaiveBayesModelMaxFeatures()\n",
    "\n",
    "    X = model.vectorizer.fit_transform(df['Review'])\n",
    "    print(f\"Number of features calculated when max_features = {max_features}: {len(model.vectorizer.get_feature_names_out())}\")\n",
    "\n",
    "    cross_val = model.cross_validation(df)\n",
    "    accuracy = np.mean(cross_val)\n",
    "    results.append({\n",
    "        \"Model\": \"Naive Bayes with Feature Selection\",\n",
    "        \"Max Features\": max_features,\n",
    "        \"Mean CV Accuracy\": accuracy,\n",
    "        \"Marginal Accuracy Gain\": accuracy - model_cross_val_accuracy_reference\n",
    "    })\n",
    "\n",
    "print()\n",
    "results_df = pd.DataFrame(results)\n",
    "print(results_df)"
   ]
  },
  {
   "cell_type": "markdown",
   "metadata": {},
   "source": [
    "In this example with only unigrams, reducing the feature set worsened model performance, with the biggest drop in performance, -9.26%, occurring when only the most frequent 100 features were present. From this table it can be observed that retaining approximately the most frequent 1% of features is not enough to maintain model accuracy, but retaining approximately the most frequent 10% of features is."
   ]
  },
  {
   "cell_type": "markdown",
   "metadata": {},
   "source": [
    "### Laplace Smoothing\n",
    "\n",
    "The Naive Bayes model only has a single tunable hyper-parameter, and that is alpha, the integer value to use during Laplace smoothing. Laplace smoothing is applied to the feature counts by the model, and it ensures features with zero counts have a non-zero contribution to the probability distribution (Chen and Goodman, 1999). Laplace smoothing also reduces the amplitude of high frequency occurrences; at the limit, high values of alpha will tend the distribution of word occurrences to a uniform distribution. In effect, Laplace smoothing acts as a regularisation technique for Naive Bayes models."
   ]
  },
  {
   "cell_type": "code",
   "execution_count": 16,
   "metadata": {},
   "outputs": [
    {
     "name": "stdout",
     "output_type": "stream",
     "text": [
      "                                       Model  Alpha  Mean CV Accuracy  \\\n",
      "0  Naive Bayes with Custom Laplace Smoothing      1          0.785076   \n",
      "1  Naive Bayes with Custom Laplace Smoothing      2          0.781452   \n",
      "2  Naive Bayes with Custom Laplace Smoothing      3          0.778559   \n",
      "3  Naive Bayes with Custom Laplace Smoothing      4          0.778559   \n",
      "\n",
      "   Marginal Accuracy Gain  \n",
      "0                0.000000  \n",
      "1               -0.003623  \n",
      "2               -0.006517  \n",
      "3               -0.006517  \n"
     ]
    }
   ],
   "source": [
    "\"\"\"\n",
    "Generate cross validation results for variations of Laplace smoothing coefficient.\n",
    "\"\"\"\n",
    "\n",
    "results = []\n",
    "for i in range(4):\n",
    "    alpha = i + 1\n",
    "    model = NaiveBayesModel(alpha = alpha)\n",
    "\n",
    "    cross_val = model.cross_validation(df)\n",
    "    accuracy = np.mean(cross_val)\n",
    "    results.append({\n",
    "        \"Model\": \"Naive Bayes with Custom Laplace Smoothing\",\n",
    "        \"Alpha\": alpha,\n",
    "        \"Mean CV Accuracy\": np.mean(cross_val),\n",
    "        \"Marginal Accuracy Gain\": accuracy - model_cross_val_accuracy_reference\n",
    "    })\n",
    "\n",
    "results_df = pd.DataFrame(results)\n",
    "print(results_df)"
   ]
  },
  {
   "cell_type": "markdown",
   "metadata": {},
   "source": [
    "Experimenting with alpha values greater than 1 only resulted in a negative impact on model performance."
   ]
  },
  {
   "cell_type": "markdown",
   "metadata": {},
   "source": [
    "### Optimisation\n",
    "\n",
    "While the marginal benefit versus the original implementation in Task 1 has been established, the proposed improvements have the potential to perform better in conjunction than independently. To this end, 5-fold cross validation will be tested across the combination of proposed settings described so far, in an effort to find the configuration that maximises performance of the Naive Bayes model on this data set. Error bars are calculated as the standard deviation of the cross validation scores."
   ]
  },
  {
   "cell_type": "code",
   "execution_count": 17,
   "metadata": {},
   "outputs": [
    {
     "data": {
      "image/png": "[encoded data removed]",
      "text/plain": [
       "<Figure size 1200x600 with 1 Axes>"
      ]
     },
     "metadata": {},
     "output_type": "display_data"
    },
    {
     "name": "stdout",
     "output_type": "stream",
     "text": [
      "                   Model N-Gram Range  Alpha  Max Features  Mean CV Accuracy  \\\n",
      "0   Modified Naive Bayes       (1, 1)      1         100.0          0.685944   \n",
      "1   Modified Naive Bayes       (1, 2)      1         100.0          0.679435   \n",
      "2   Modified Naive Bayes       (1, 3)      1         100.0          0.679435   \n",
      "3   Modified Naive Bayes       (1, 4)      1         100.0          0.680877   \n",
      "4   Modified Naive Bayes       (1, 1)      2         100.0          0.685947   \n",
      "5   Modified Naive Bayes       (1, 2)      2         100.0          0.681607   \n",
      "6   Modified Naive Bayes       (1, 3)      2         100.0          0.681607   \n",
      "7   Modified Naive Bayes       (1, 4)      2         100.0          0.678711   \n",
      "8   Modified Naive Bayes       (1, 1)      3         100.0          0.687396   \n",
      "9   Modified Naive Bayes       (1, 2)      3         100.0          0.680885   \n",
      "10  Modified Naive Bayes       (1, 3)      3         100.0          0.680885   \n",
      "11  Modified Naive Bayes       (1, 4)      3         100.0          0.675818   \n",
      "12  Modified Naive Bayes       (1, 1)      4         100.0          0.685949   \n",
      "13  Modified Naive Bayes       (1, 2)      4         100.0          0.680160   \n",
      "14  Modified Naive Bayes       (1, 3)      4         100.0          0.680160   \n",
      "15  Modified Naive Bayes       (1, 4)      4         100.0          0.673646   \n",
      "16  Modified Naive Bayes       (1, 1)      1        1000.0          0.774206   \n",
      "17  Modified Naive Bayes       (1, 2)      1        1000.0          0.759745   \n",
      "18  Modified Naive Bayes       (1, 3)      1        1000.0          0.761191   \n",
      "19  Modified Naive Bayes       (1, 4)      1        1000.0          0.761916   \n",
      "20  Modified Naive Bayes       (1, 1)      2        1000.0          0.769866   \n",
      "21  Modified Naive Bayes       (1, 2)      2        1000.0          0.756849   \n",
      "22  Modified Naive Bayes       (1, 3)      2        1000.0          0.758290   \n",
      "23  Modified Naive Bayes       (1, 4)      2        1000.0          0.759737   \n",
      "24  Modified Naive Bayes       (1, 1)      3        1000.0          0.768425   \n",
      "25  Modified Naive Bayes       (1, 2)      3        1000.0          0.752509   \n",
      "26  Modified Naive Bayes       (1, 3)      3        1000.0          0.753231   \n",
      "27  Modified Naive Bayes       (1, 4)      3        1000.0          0.752506   \n",
      "28  Modified Naive Bayes       (1, 1)      4        1000.0          0.764085   \n",
      "29  Modified Naive Bayes       (1, 2)      4        1000.0          0.751065   \n",
      "30  Modified Naive Bayes       (1, 3)      4        1000.0          0.749615   \n",
      "31  Modified Naive Bayes       (1, 4)      4        1000.0          0.748164   \n",
      "32  Modified Naive Bayes       (1, 1)      1       10000.0          0.784359   \n",
      "33  Modified Naive Bayes       (1, 2)      1       10000.0          0.791595   \n",
      "34  Modified Naive Bayes       (1, 3)      1       10000.0          0.789426   \n",
      "35  Modified Naive Bayes       (1, 4)      1       10000.0          0.790151   \n",
      "36  Modified Naive Bayes       (1, 1)      2       10000.0          0.781458   \n",
      "37  Modified Naive Bayes       (1, 2)      2       10000.0          0.785808   \n",
      "38  Modified Naive Bayes       (1, 3)      2       10000.0          0.783634   \n",
      "39  Modified Naive Bayes       (1, 4)      2       10000.0          0.782912   \n",
      "40  Modified Naive Bayes       (1, 1)      3       10000.0          0.776390   \n",
      "41  Modified Naive Bayes       (1, 2)      3       10000.0          0.780019   \n",
      "42  Modified Naive Bayes       (1, 3)      3       10000.0          0.780016   \n",
      "43  Modified Naive Bayes       (1, 4)      3       10000.0          0.779294   \n",
      "44  Modified Naive Bayes       (1, 1)      4       10000.0          0.770596   \n",
      "45  Modified Naive Bayes       (1, 2)      4       10000.0          0.775681   \n",
      "46  Modified Naive Bayes       (1, 3)      4       10000.0          0.774954   \n",
      "47  Modified Naive Bayes       (1, 4)      4       10000.0          0.775679   \n",
      "48  Modified Naive Bayes       (1, 1)      1       20000.0          0.785081   \n",
      "49  Modified Naive Bayes       (1, 2)      1       20000.0          0.789423   \n",
      "50  Modified Naive Bayes       (1, 3)      1       20000.0          0.793047   \n",
      "51  Modified Naive Bayes       (1, 4)      1       20000.0          0.792322   \n",
      "52  Modified Naive Bayes       (1, 1)      2       20000.0          0.781455   \n",
      "53  Modified Naive Bayes       (1, 2)      2       20000.0          0.786525   \n",
      "54  Modified Naive Bayes       (1, 3)      2       20000.0          0.782910   \n",
      "55  Modified Naive Bayes       (1, 4)      2       20000.0          0.785081   \n",
      "56  Modified Naive Bayes       (1, 1)      3       20000.0          0.776390   \n",
      "57  Modified Naive Bayes       (1, 2)      3       20000.0          0.781458   \n",
      "58  Modified Naive Bayes       (1, 3)      3       20000.0          0.776398   \n",
      "59  Modified Naive Bayes       (1, 4)      3       20000.0          0.780016   \n",
      "60  Modified Naive Bayes       (1, 1)      4       20000.0          0.769147   \n",
      "61  Modified Naive Bayes       (1, 2)      4       20000.0          0.772783   \n",
      "62  Modified Naive Bayes       (1, 3)      4       20000.0          0.772056   \n",
      "63  Modified Naive Bayes       (1, 4)      4       20000.0          0.772058   \n",
      "64  Modified Naive Bayes       (1, 1)      1       50000.0          0.785081   \n",
      "65  Modified Naive Bayes       (1, 2)      1       50000.0          0.792317   \n",
      "66  Modified Naive Bayes       (1, 3)      1       50000.0          0.790875   \n",
      "67  Modified Naive Bayes       (1, 4)      1       50000.0          0.791597   \n",
      "68  Modified Naive Bayes       (1, 1)      2       50000.0          0.781455   \n",
      "69  Modified Naive Bayes       (1, 2)      2       50000.0          0.786522   \n",
      "70  Modified Naive Bayes       (1, 3)      2       50000.0          0.785081   \n",
      "71  Modified Naive Bayes       (1, 4)      2       50000.0          0.787252   \n",
      "72  Modified Naive Bayes       (1, 1)      3       50000.0          0.776390   \n",
      "73  Modified Naive Bayes       (1, 2)      3       50000.0          0.778564   \n",
      "74  Modified Naive Bayes       (1, 3)      3       50000.0          0.780738   \n",
      "75  Modified Naive Bayes       (1, 4)      3       50000.0          0.780738   \n",
      "76  Modified Naive Bayes       (1, 1)      4       50000.0          0.769147   \n",
      "77  Modified Naive Bayes       (1, 2)      4       50000.0          0.775668   \n",
      "78  Modified Naive Bayes       (1, 3)      4       50000.0          0.777840   \n",
      "79  Modified Naive Bayes       (1, 4)      4       50000.0          0.777120   \n",
      "80  Modified Naive Bayes       (1, 1)      1           NaN          0.785081   \n",
      "81  Modified Naive Bayes       (1, 2)      1           NaN          0.788699   \n",
      "82  Modified Naive Bayes       (1, 3)      1           NaN          0.786527   \n",
      "83  Modified Naive Bayes       (1, 4)      1           NaN          0.784359   \n",
      "84  Modified Naive Bayes       (1, 1)      2           NaN          0.781455   \n",
      "85  Modified Naive Bayes       (1, 2)      2           NaN          0.780014   \n",
      "86  Modified Naive Bayes       (1, 3)      2           NaN          0.777120   \n",
      "87  Modified Naive Bayes       (1, 4)      2           NaN          0.774946   \n",
      "88  Modified Naive Bayes       (1, 1)      3           NaN          0.776390   \n",
      "89  Modified Naive Bayes       (1, 2)      3           NaN          0.772778   \n",
      "90  Modified Naive Bayes       (1, 3)      3           NaN          0.772778   \n",
      "91  Modified Naive Bayes       (1, 4)      3           NaN          0.772053   \n",
      "92  Modified Naive Bayes       (1, 1)      4           NaN          0.769147   \n",
      "93  Modified Naive Bayes       (1, 2)      4           NaN          0.769882   \n",
      "94  Modified Naive Bayes       (1, 3)      4           NaN          0.773502   \n",
      "95  Modified Naive Bayes       (1, 4)      4           NaN          0.771331   \n",
      "\n",
      "    CV Accuracy Std  Marginal Accuracy Gain  \n",
      "0          0.021428               -0.099131  \n",
      "1          0.017632               -0.105640  \n",
      "2          0.017632               -0.105640  \n",
      "3          0.021699               -0.104199  \n",
      "4          0.021637               -0.099129  \n",
      "5          0.018124               -0.103469  \n",
      "6          0.018124               -0.103469  \n",
      "7          0.020767               -0.106365  \n",
      "8          0.022348               -0.097680  \n",
      "9          0.018159               -0.104191  \n",
      "10         0.018159               -0.104191  \n",
      "11         0.020268               -0.109258  \n",
      "12         0.022082               -0.099126  \n",
      "13         0.021511               -0.104916  \n",
      "14         0.021511               -0.104916  \n",
      "15         0.019855               -0.111429  \n",
      "16         0.030756               -0.010870  \n",
      "17         0.023090               -0.025331  \n",
      "18         0.022215               -0.023884  \n",
      "19         0.021163               -0.023160  \n",
      "20         0.031169               -0.015210  \n",
      "21         0.024198               -0.028227  \n",
      "22         0.025917               -0.026785  \n",
      "23         0.025836               -0.025339  \n",
      "24         0.029074               -0.016651  \n",
      "25         0.025583               -0.032567  \n",
      "26         0.024525               -0.031845  \n",
      "27         0.023906               -0.032569  \n",
      "28         0.027440               -0.020991  \n",
      "29         0.025936               -0.034011  \n",
      "30         0.027526               -0.035460  \n",
      "31         0.028522               -0.036912  \n",
      "32         0.016437               -0.000717  \n",
      "33         0.014209                0.006519  \n",
      "34         0.014864                0.004350  \n",
      "35         0.015808                0.005075  \n",
      "36         0.016197               -0.003618  \n",
      "37         0.020635                0.000732  \n",
      "38         0.021895               -0.001441  \n",
      "39         0.021226               -0.002163  \n",
      "40         0.022910               -0.008685  \n",
      "41         0.024377               -0.005057  \n",
      "42         0.025243               -0.005059  \n",
      "43         0.024771               -0.005781  \n",
      "44         0.026092               -0.014480  \n",
      "45         0.022965               -0.009394  \n",
      "46         0.024265               -0.010121  \n",
      "47         0.024857               -0.009397  \n",
      "48         0.016458                0.000005  \n",
      "49         0.019617                0.004348  \n",
      "50         0.019941                0.007971  \n",
      "51         0.020254                0.007246  \n",
      "52         0.021512               -0.003621  \n",
      "53         0.023943                0.001449  \n",
      "54         0.024890               -0.002166  \n",
      "55         0.025050                0.000005  \n",
      "56         0.022910               -0.008685  \n",
      "57         0.031827               -0.003618  \n",
      "58         0.026558               -0.008677  \n",
      "59         0.027907               -0.005059  \n",
      "60         0.030540               -0.015929  \n",
      "61         0.031678               -0.012293  \n",
      "62         0.028075               -0.013020  \n",
      "63         0.030300               -0.013017  \n",
      "64         0.016458                0.000005  \n",
      "65         0.018540                0.007241  \n",
      "66         0.019687                0.005800  \n",
      "67         0.017780                0.006522  \n",
      "68         0.021512               -0.003621  \n",
      "69         0.026554                0.001447  \n",
      "70         0.026163                0.000005  \n",
      "71         0.025117                0.002177  \n",
      "72         0.022910               -0.008685  \n",
      "73         0.027943               -0.006511  \n",
      "74         0.028492               -0.004337  \n",
      "75         0.029304               -0.004337  \n",
      "76         0.030540               -0.015929  \n",
      "77         0.031621               -0.009407  \n",
      "78         0.032964               -0.007236  \n",
      "79         0.028494               -0.007955  \n",
      "80         0.016458                0.000005  \n",
      "81         0.020937                0.003623  \n",
      "82         0.028049                0.001452  \n",
      "83         0.028555               -0.000717  \n",
      "84         0.021512               -0.003621  \n",
      "85         0.027644               -0.005062  \n",
      "86         0.030540               -0.007955  \n",
      "87         0.031056               -0.010129  \n",
      "88         0.022910               -0.008685  \n",
      "89         0.031882               -0.012298  \n",
      "90         0.031882               -0.012298  \n",
      "91         0.032746               -0.013023  \n",
      "92         0.030540               -0.015929  \n",
      "93         0.032884               -0.015194  \n",
      "94         0.033415               -0.011573  \n",
      "95         0.036486               -0.013745  \n",
      "\n",
      "Best score from cross validation grid search: 0.7930466174854811\n"
     ]
    }
   ],
   "source": [
    "\"\"\"\n",
    "Generate cross validation results for variations of all suggested improvements.\n",
    "\"\"\"\n",
    "\n",
    "def build_model(alpha, max_features, ngram_range):\n",
    "    class NaiveBayesModelOptimised(NaiveBayesModel):\n",
    "        \"\"\"\n",
    "        Extend the base Naive Bayes model with TF-IDF vectorizer, tokenization and configurable alpha, max_features and ngram_range parameters.\n",
    "        \"\"\"\n",
    "        def __init__(self):\n",
    "            super().__init__(alpha = alpha)\n",
    "            self.vectorizer = TfidfVectorizer(tokenizer = advanced_ingestor.tokenize_and_stem, max_features = max_features, ngram_range = ngram_range)\n",
    "    return NaiveBayesModelOptimised()\n",
    "\n",
    "# Perform a grid search across investigated improvement configurations\n",
    "optimised_results = []\n",
    "for max_features in [100, 1000, 10000, 20000, 50000, None]:\n",
    "    for alpha in [1,2,3,4]:\n",
    "        for n_gram_upper_limit in [1,2,3,4]:\n",
    "            ngram_range = (1, n_gram_upper_limit)\n",
    "            model = build_model(alpha, max_features, ngram_range)\n",
    "            cross_val = model.cross_validation(df)\n",
    "            accuracy = np.mean(cross_val)\n",
    "            accuracy_std = np.std(cross_val)\n",
    "            optimised_results.append({\n",
    "                \"Model\": \"Modified Naive Bayes\",\n",
    "                \"N-Gram Range\": ngram_range,\n",
    "                \"Alpha\": alpha,\n",
    "                \"Max Features\": max_features,\n",
    "                \"Mean CV Accuracy\": accuracy,\n",
    "                \"CV Accuracy Std\": accuracy_std,\n",
    "                \"Marginal Accuracy Gain\": accuracy - model_cross_val_accuracy_reference\n",
    "            })\n",
    "        \n",
    "# Insert results into a dataframe for easier processing\n",
    "optimised_results_df = pd.DataFrame(optimised_results)\n",
    "\n",
    "# Plot mean accuracy with error bars\n",
    "x = np.arange(len(optimised_results_df))\n",
    "y = optimised_results_df[\"Mean CV Accuracy\"]\n",
    "yerr = optimised_results_df[\"CV Accuracy Std\"]\n",
    "plt.figure(figsize=(12, 6))\n",
    "plt.errorbar(x, y, yerr=yerr, fmt='o', capsize=3, capthick=1, ecolor='red', label='CV Accuracy')\n",
    "plt.xlabel(\"Configuration Index\")\n",
    "plt.ylabel(\"Mean CV Accuracy\")\n",
    "plt.title(\"Scatter Plot of Mean CV Accuracy Across Model Configurations\")\n",
    "plt.legend()\n",
    "plt.show()\n",
    "\n",
    "print(optimised_results_df)\n",
    "\n",
    "best_index = optimised_results_df[\"Mean CV Accuracy\"].idxmax()\n",
    "best_row = optimised_results_df.loc[best_index]\n",
    "cross_validation_final_score = best_row[\"Mean CV Accuracy\"]\n",
    "print()\n",
    "print(f\"Best score from cross validation grid search: {cross_validation_final_score}\")"
   ]
  },
  {
   "cell_type": "markdown",
   "metadata": {},
   "source": [
    "As a reminder, these results are generated using scikit-learns MultinomialNB model with a TF-IDF vectoriser and a custom tokenization pipeline, including lemmatisation. The settings resulting in the best model performance with an accuracy of 79.30% +/- 2% and a gain of 0.8% against the cross validated Naive Bayes model from Task 1 are:\n",
    "- N-Grams: 1, 2 and 3-grams\n",
    "- Alpha: 1\n",
    "- Max Features: 20000\n",
    "\n",
    "**For the remainder of this report, all results stated for \"Modified Naive Bayes\" are generated using these optimised settings.**"
   ]
  },
  {
   "cell_type": "markdown",
   "metadata": {},
   "source": [
    "## Reporting\n",
    "\n",
    "When training and testing on the 80/20 split data set from Task 1, Task 2's modified Naive Bayes model yielded an accuracy of 77.17% as opposed to Task 1's model which yielded an accuracy of 77.54%. The below \"Evaluation Metrics Results\" table and confusion matrix show only slight changes in precision, recall and F1 score, indicating the proposed improvements did not significantly change the model's tendency to produce false positives or false negatives. The slightly lower evaluation metrics can be explained by the slightly lower accuracy, because the data set in this exercise is balanced.\n",
    "\n",
    "The central hypothesis driving the selection of the improvements investigated was that improving the density of semantic information and highly predictive features would improve model performance. Despite the improvements having sound theoretical grounding, the aggregate of their application to Naive Bayes resulted in a 0.36% decrease in accuracy when tested using the 80/20 split."
   ]
  },
  {
   "cell_type": "code",
   "execution_count": 18,
   "metadata": {},
   "outputs": [
    {
     "data": {
      "image/png": "[encoded data removed]",
      "text/plain": [
       "<Figure size 800x600 with 2 Axes>"
      ]
     },
     "metadata": {},
     "output_type": "display_data"
    },
    {
     "name": "stdout",
     "output_type": "stream",
     "text": [
      "Evaluation Metrics Results\n",
      "                  Model  Precision    Recall  F1 Score  Accuracy  \\\n",
      "0           Naive Bayes   0.731707  0.869565  0.794702  0.775362   \n",
      "1  Modified Naive Bayes   0.727273  0.869565  0.792079  0.771739   \n",
      "\n",
      "   Marginal Accuracy Gain  \n",
      "0                0.000000  \n",
      "1               -0.003623  \n",
      "\n",
      "Final Comparison Results\n",
      "                  Model  Mean Accuracy  Train/Test Split  \\\n",
      "0           Naive Bayes       0.775362       80/20 split   \n",
      "1           Naive Bayes       0.785076  Cross validation   \n",
      "2  Modified Naive Bayes       0.771739       80/20 split   \n",
      "3  Modified Naive Bayes       0.793047  Cross validation   \n",
      "\n",
      "   Marginal Accuracy Gain  \n",
      "0                0.000000  \n",
      "1                0.000000  \n",
      "2               -0.003623  \n",
      "3                0.007971  \n"
     ]
    }
   ],
   "source": [
    "\"\"\"\n",
    "Generate model results for the optimal configuration of improvements using the 80/20 split for Task 1.\n",
    "Display additional evaluation metrics, precision, recall and F1 score for comparison.\n",
    "\"\"\"\n",
    "\n",
    "class NaiveBayesModelFinal(NaiveBayesModel):\n",
    "    \"\"\"\n",
    "    Extend the base Naive Bayes model with the best performing configuration of improvements.\n",
    "    TF-IDF vectorizer, tokenization and alpha = 1, max_features = 20,000 and ngram_range = (1, 3).\n",
    "    \"\"\"\n",
    "    def __init__(self):\n",
    "        super().__init__(alpha = 1)\n",
    "        self.vectorizer = TfidfVectorizer(tokenizer = advanced_ingestor.tokenize_and_stem, max_features = 20000, ngram_range = (1, 3))\n",
    "model = NaiveBayesModelFinal()\n",
    "model.train_model(train_df)\n",
    "final_y_test, final_predictions, final_score = model.test_model(test_df)\n",
    "\n",
    "final_precision, final_recall, final_f1_score = plot_confusion_matrix(final_y_test, final_predictions)\n",
    "\n",
    "# Render final scores and evaluation metrics table\n",
    "metrics_data = [\n",
    "    {\n",
    "        \"Model\": \"Naive Bayes\", \n",
    "        \"Precision\": task_1_precision, \n",
    "        \"Recall\": task_1_recall, \n",
    "        \"F1 Score\": task_1_f1_score, \n",
    "        \"Accuracy\": task_1_score, \n",
    "        \"Marginal Accuracy Gain\": 0\n",
    "    },\n",
    "    {\n",
    "        \"Model\": \"Modified Naive Bayes\", \n",
    "        \"Precision\": final_precision, \n",
    "        \"Recall\": final_recall, \n",
    "        \"F1 Score\": final_f1_score, \n",
    "        \"Accuracy\": final_score,\n",
    "        \"Marginal Accuracy Gain\": final_score - task_1_score\n",
    "    }\n",
    "]\n",
    "df_metrics = pd.DataFrame(metrics_data)\n",
    "print(\"Evaluation Metrics Results\")\n",
    "print(df_metrics)\n",
    "\n",
    "\n",
    "\"\"\"\n",
    "Generate a table to illustrate the difference between 80/20 split and cross validation on model performance.\n",
    "\"\"\"\n",
    "\n",
    "results = []\n",
    "# Naive Bayes 80/20 split results\n",
    "results.append({\n",
    "    \"Model\": \"Naive Bayes\",\n",
    "    \"Mean Accuracy\": task_1_score,\n",
    "    \"Train/Test Split\": \"80/20 split\",\n",
    "    \"Marginal Accuracy Gain\": 0\n",
    "})\n",
    "\n",
    "# Naive Bayes cross validation results\n",
    "cross_val = task_1_naive_bayes_model.cross_validation(df)\n",
    "accuracy = np.mean(cross_val)\n",
    "results.append({\n",
    "    \"Model\": \"Naive Bayes\",\n",
    "    \"Mean Accuracy\": accuracy,\n",
    "    \"Train/Test Split\": \"Cross validation\",\n",
    "    \"Marginal Accuracy Gain\": 0\n",
    "})\n",
    "\n",
    "# Modified Naive Bayes 80/20 split results\n",
    "results.append({\n",
    "    \"Model\": \"Modified Naive Bayes\",\n",
    "    \"Mean Accuracy\": final_score,\n",
    "    \"Train/Test Split\": \"80/20 split\",\n",
    "    \"Marginal Accuracy Gain\": final_score - task_1_score\n",
    "})\n",
    "\n",
    "# Modified Naive Bayes cross validation results\n",
    "results.append({\n",
    "    \"Model\": \"Modified Naive Bayes\",\n",
    "    \"Mean Accuracy\": cross_validation_final_score,\n",
    "    \"Train/Test Split\": \"Cross validation\",\n",
    "    \"Marginal Accuracy Gain\": cross_validation_final_score - model_cross_val_accuracy_reference\n",
    "})\n",
    "\n",
    "results_df = pd.DataFrame(results)\n",
    "print()\n",
    "print(\"Final Comparison Results\")\n",
    "print(results_df)"
   ]
  },
  {
   "cell_type": "markdown",
   "metadata": {},
   "source": [
    "Idiosyncracies of the 80/20 training set split are obscuring the benefit of the improvements. We can test for this by evaluating the accuracy of the Naive Bayes model from Task 1 using the 80/20 split and cross validation. We observe in the above \"Final Comparison Results\" table a 0.80% improvement in accuracy measured through cross validation, indicating that the 80% training set is less predictive of the remaining 20% test set than is to be expected on average. This at least partially explains why assessing the improvements via cross validation yields a greater benefit than when training and testing using the 80/20 split.\n",
    "\n",
    "When compared in their most favourable scenario, that is, evaluated using cross validation with optimised settings, the pre-processing pipeline and vectorisation improvements discussed in Task 2 yield a 0.80% performance boost versus the model from Task 1. However, the error for this result is +/- 2%, which means that the measured improvement is smaller than the variability of the models performance, suggesting the improvement is not statistically significant.\n",
    "\n",
    "This result suggests that Task 1's pre-processing pipeline, including unigrams and stemming, is as effective as the more sophisticated techniques explored in Task 2. One reason for this could be that the benefit of capturing semantic information has been overestimated, and that simple unigram counts are more predictive of a review's sentiment class in this data set. Another reason could be that the increased feature set size caused by lemmatisation replacing stemming has lessened the predictive power of key predictors in the data set, by converting them from a stem into one or more lemmas, thereby making the vectorised representation more sparse.\n",
    "\n",
    "Given a broad range of techniques have been investigated and performance is effectively unchanged, this result also suggests that the multinomial Naive Bayes model has reached its performance ceiling for this data set, and that a more sophisticated model, such as a support vector machine, is needed to achieve better classification performance.\n",
    "\n",
    "For future work, it would be interesting to investigate the relative performance of the pre-processing pipeline changes when applied to other classification models such as logistic regression. When compared to the work in Task 2, this comparison would offer insight into whether the pipeline changes are of equivalent efficacy across a range classification model types.\n",
    "\n",
    "It is difficult to imagine a real world application of binary car review sentiment analysis that would materially benefit from a 0.80% improvement. It must also be considered that with a different data set or evaluation method, the advantage may disappear entirely. It is also unclear how the improvements would impact performance if the reviews were, for example, in another language, and this would also be an interesting candidate for future work. Considering the improvements require TF-IDF vectorisation as opposed to simple counts, a more complicated tokenization pipeline by virtue of lemmatisation, as well as a much larger initial feature set due to the introduction of n-grams, the additional computational and logical complexity, depending on the use case, is unlikely to be justified by the model performance."
   ]
  },
  {
   "cell_type": "markdown",
   "metadata": {},
   "source": [
    "# References\n",
    "\n",
    "Chen, S.F. and Goodman, J., 1999. An empirical study of smoothing techniques for language modeling. Computer Speech and Language, 13(4), pp.359–394. Available from: https://www.sciencedirect.com/science/article/pii/S0885230899901286.\n",
    "\n",
    "Bengio, Y. and Grandvalet, Y., 2004. No unbiased estimator of the variance of k-fold cross-validation. Journal of Machine Learning Research, 5.\n",
    "\n",
    "Stanford, 2009. Stemming and lemmatization. Available from: https://nlp.stanford.edu/IR-book/html/htmledition/stemming-and-lemmatization-1.html [Accessed April 12, 2025].\n",
    "\n",
    "Li, J., Cheng, K., Wang, S., Morstatter, F., Trevino, R.P., Tang, J., and Liu, H., 2017. Feature selection: a data perspective. ACM Computing Surveys, 50(6). Available from: http://dx.doi.org/10.1145/3136625.\n",
    "\n",
    "Senders, Y., 2021. The impact of stemming and lemmatisation applied to word vector based models in sentiment analysis.\n",
    "\n",
    "Siddhartha, B.S., Niveditha, N.M. and Manu, Y.M., 2021. An interpretation of lemmatization and stemming in natural language processing. Journal of University of Shanghai for Science and Technology, 22.\n",
    "\n",
    "Géron, A., 2022. Hands-On Machine Learning with Scikit-Learn, Keras, and TensorFlow. O’Reilly.\n",
    "\n",
    "Russell, S. and Norvig, P., 2022. Artificial Intelligence: A Modern Approach. Pearson Education Limited.\n",
    "\n",
    "IBM, 2023. What are stemming and lemmatization? Available from: https://www.ibm.com/think/topics/stemming-lemmatization [Accessed April 12, 2025]."
   ]
  }
 ],
 "metadata": {
  "kernelspec": {
   "display_name": "Python 3",
   "language": "python",
   "name": "python3"
  },
  "language_info": {
   "codemirror_mode": {
    "name": "ipython",
    "version": 3
   },
   "file_extension": ".py",
   "mimetype": "text/x-python",
   "name": "python",
   "nbconvert_exporter": "python",
   "pygments_lexer": "ipython3",
   "version": "3.12.5"
  }
 },
 "nbformat": 4,
 "nbformat_minor": 2
}
